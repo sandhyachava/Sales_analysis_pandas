{
    "cells": [
        {
            "cell_type": "code",
            "execution_count": 1,
            "id": "08551c62-7f39-4617-a674-442ea5272741",
            "metadata": {},
            "outputs": [],
            "source": [
                "import pandas as pd\n",
                "import os \n",
                "#df= pd.read_csv('./sales_data/Sales_April_2019.csv')"
            ]
        },
        {
            "cell_type": "markdown",
            "id": "062b2193-dc1a-4b6f-9905-565fac58d74a",
            "metadata": {},
            "source": [
                "#### Merge 12 month sales data into a single dataframe\n"
            ]
        },
        {
            "cell_type": "code",
            "execution_count": 2,
            "id": "5c96221a-5966-4e05-9bd0-9d69c27cec4b",
            "metadata": {},
            "outputs": [],
            "source": [
                "\n",
                "files = [file for file in os.listdir('./sales_data')]\n",
                "\n",
                "all_months_data= pd.DataFrame()  \n",
                "\n",
                "for file in files:\n",
                "  #  print(file)\n",
                "    if file.endswith(\".csv\"):\n",
                "        file_name =\"./sales_data/\"+file\n",
                "        #print(file_name)\n",
                "        df= pd.read_csv(\"./sales_data/\"+file)\n",
                "        all_months_data=pd.concat([all_months_data,df])"
            ]
        },
        {
            "cell_type": "code",
            "execution_count": 3,
            "id": "ab0667cb-9e77-4b55-b3ad-d8d5572c73e2",
            "metadata": {},
            "outputs": [],
            "source": [
                "all_months_data.describe()\n",
                "\n"
            ]
        },
        {
            "cell_type": "markdown",
            "id": "a36f2d0a-6993-4f86-9902-b9c1995717d4",
            "metadata": {},
            "source": [
                "#### Convert the data into csv"
            ]
        },
        {
            "cell_type": "code",
            "execution_count": 4,
            "id": "7d4d38ea-9423-4a29-b1b2-bd81ea578d56",
            "metadata": {},
            "outputs": [],
            "source": [
                "all_months_data.to_csv(\"all_data.csv\",index=False)"
            ]
        },
        {
            "cell_type": "code",
            "execution_count": 5,
            "id": "00ef0ab1-b238-4f17-a380-95bc58b88ff4",
            "metadata": {},
            "outputs": [],
            "source": [
                "all_data=pd.read_csv(\"all_data.csv\")"
            ]
        },
        {
            "cell_type": "code",
            "execution_count": 6,
            "id": "5ea80d1d-9e3a-4112-baec-521e7dbfa86d",
            "metadata": {},
            "outputs": [],
            "source": [
                "all_data.head()"
            ]
        },
        {
            "cell_type": "markdown",
            "id": "b95e521b-d696-4f75-b57e-6efba4f98b99",
            "metadata": {},
            "source": [
                "## 10 Whats was the best months for sales? how much earned that month?"
            ]
        },
        {
            "cell_type": "markdown",
            "id": "08010dc3-0544-4f0d-89de-feac3050a488",
            "metadata": {},
            "source": [
                "#### Augument the with addidtional columns"
            ]
        },
        {
            "cell_type": "markdown",
            "id": "be2370c3-9b09-4390-862a-642419a6a772",
            "metadata": {},
            "source": [
                "#### 2: Add Month column"
            ]
        },
        {
            "cell_type": "code",
            "execution_count": 7,
            "id": "642f5b1e-9794-47d0-a863-6ad3fb22ac4b",
            "metadata": {},
            "outputs": [],
            "source": [
                "all_data['Month']= all_data['Order Date'].str[0:2]"
            ]
        },
        {
            "cell_type": "code",
            "execution_count": 8,
            "id": "0425ad86-211e-4dbf-80e1-d5cfd444916b",
            "metadata": {},
            "outputs": [],
            "source": [
                "all_data['Month']= all_data['Month'].astype('int32')\n",
                "all_data.head()"
            ]
        },
        {
            "cell_type": "markdown",
            "id": "bed4d132-c0e9-491e-aa66-fa62f51913c5",
            "metadata": {},
            "source": [
                "#### To resolve the above Error we need to clean the data\n",
                "#### Drop the NANs"
            ]
        },
        {
            "cell_type": "code",
            "execution_count": 9,
            "id": "fef105de-9d6a-4395-baa2-123382176491",
            "metadata": {},
            "outputs": [],
            "source": [
                "all_data.isna()"
            ]
        },
        {
            "cell_type": "code",
            "execution_count": 10,
            "id": "4854d00a-50f8-4648-8b2a-ae337bfa27c2",
            "metadata": {},
            "outputs": [],
            "source": [
                "nan_all_data= all_data[all_data.isna().any(axis=1)]"
            ]
        },
        {
            "cell_type": "code",
            "execution_count": 11,
            "id": "eb2714b1-6b85-4b22-a1b8-802be1ccc377",
            "metadata": {},
            "outputs": [],
            "source": [
                "nan_all_data.head()"
            ]
        },
        {
            "cell_type": "code",
            "execution_count": 14,
            "id": "e9fdab96-1f95-4645-8e44-9e3134c1c07d",
            "metadata": {},
            "outputs": [],
            "source": [
                "nan_all_data.count()"
            ]
        },
        {
            "cell_type": "code",
            "execution_count": 12,
            "id": "cbc46cfe-410e-4843-a7c4-1c900708e08e",
            "metadata": {},
            "outputs": [],
            "source": [
                "all_data['Order ID'].index"
            ]
        },
        {
            "cell_type": "code",
            "execution_count": 13,
            "id": "18834682-aaf6-46b4-9002-2d0595bc17b1",
            "metadata": {},
            "outputs": [],
            "source": [
                "all_data.iloc[199]"
            ]
        },
        {
            "cell_type": "code",
            "execution_count": 104,
            "id": "9e9220c7-e823-4068-a8f6-94b6d6700b9f",
            "metadata": {},
            "outputs": [],
            "source": [
                "all_data.iloc[199]['Order ID']"
            ]
        },
        {
            "cell_type": "code",
            "execution_count": 105,
            "id": "b33c855a-7250-4e45-8ee9-0357b5a5bbbc",
            "metadata": {},
            "outputs": [],
            "source": [
                "all_data['Order ID'].values[199]"
            ]
        },
        {
            "cell_type": "code",
            "execution_count": 106,
            "id": "1d0180a5-77b2-4010-a158-cc6494432d91",
            "metadata": {},
            "outputs": [],
            "source": [
                "all_data.iat[199,5]"
            ]
        },
        {
            "cell_type": "code",
            "execution_count": 14,
            "id": "db5c6691-fa22-42dc-8a0f-541fc405db91",
            "metadata": {},
            "outputs": [],
            "source": [
                "all_data=all_data.dropna(how=\"all\")"
            ]
        },
        {
            "cell_type": "code",
            "execution_count": 15,
            "id": "296cee2f-8605-460f-8b85-0b1016f72b8f",
            "metadata": {},
            "outputs": [],
            "source": [
                "all_data.isna()"
            ]
        },
        {
            "cell_type": "code",
            "execution_count": 16,
            "id": "79ddab27-1c0f-47d6-a702-bc097c7d9ca0",
            "metadata": {},
            "outputs": [],
            "source": [
                "temp_df= all_data[all_data['Order Date'].str[0:2]=='Or']\n"
            ]
        },
        {
            "cell_type": "code",
            "execution_count": 17,
            "id": "5ce2c35d-49bd-4686-a12e-a93465993934",
            "metadata": {},
            "outputs": [],
            "source": [
                "temp_df.head()"
            ]
        },
        {
            "cell_type": "markdown",
            "id": "aab898f1-a3a0-47fc-a43c-aab4ebd0b8c7",
            "metadata": {},
            "source": [
                "#### Some reason these records are there , we need to remove those records"
            ]
        },
        {
            "cell_type": "code",
            "execution_count": 18,
            "id": "b08ac637-e789-40aa-b316-57f2392b38e2",
            "metadata": {},
            "outputs": [],
            "source": [
                "all_data= all_data[all_data['Order Date'].str[0:2]!='Or']"
            ]
        },
        {
            "cell_type": "code",
            "execution_count": 19,
            "id": "0d4de490-6a4f-414e-80de-ffb3de4301c5",
            "metadata": {},
            "outputs": [],
            "source": [
                "all_data['Month']= all_data['Month'].astype('int32')\n",
                "all_data.head()"
            ]
        },
        {
            "cell_type": "markdown",
            "id": "a3203444-609a-4270-a45a-eb02cc73a1d5",
            "metadata": {},
            "source": [
                "#### Add a sales columns"
            ]
        },
        {
            "cell_type": "code",
            "execution_count": 20,
            "id": "22d48948-8241-44d1-aeac-0f354517acaf",
            "metadata": {},
            "outputs": [],
            "source": [
                "all_data['Sales']= all_data['Quantity Ordered']*all_data['Price Each']"
            ]
        },
        {
            "cell_type": "code",
            "execution_count": 21,
            "id": "50c59a51-5b66-428e-9b55-5f544275933b",
            "metadata": {},
            "outputs": [],
            "source": [
                "all_data['Quantity Ordered']= pd.to_numeric(all_data['Quantity Ordered'])"
            ]
        },
        {
            "cell_type": "code",
            "execution_count": 22,
            "id": "ad3dd951-ec37-4220-b27e-94f83f384083",
            "metadata": {},
            "outputs": [],
            "source": [
                "all_data['Price Each']= pd.to_numeric(all_data['Price Each'])"
            ]
        },
        {
            "cell_type": "code",
            "execution_count": 23,
            "id": "8939d7b8-8392-4981-9e7a-9e317d64c635",
            "metadata": {},
            "outputs": [],
            "source": [
                "all_data['Sales']= all_data['Quantity Ordered']*all_data['Price Each']"
            ]
        },
        {
            "cell_type": "code",
            "execution_count": 24,
            "id": "3eceb674-f064-4e6c-b774-527246e1bcd8",
            "metadata": {},
            "outputs": [],
            "source": [
                "all_data.head()"
            ]
        },
        {
            "cell_type": "code",
            "execution_count": 25,
            "id": "e05e14af-a38e-4783-80ab-e5fc5261f453",
            "metadata": {},
            "outputs": [],
            "source": [
                "all_data.groupby('Month').sum()"
            ]
        },
        {
            "cell_type": "code",
            "execution_count": 26,
            "id": "5655badd-4f8d-4ff6-ac2e-34c13d03b6c2",
            "metadata": {},
            "outputs": [],
            "source": [
                "all_data.head()"
            ]
        },
        {
            "cell_type": "code",
            "execution_count": null,
            "id": "7c084840-4bff-4b66-9860-7cf1fd05cdf7",
            "metadata": {},
            "outputs": [],
            "source": []
        },
        {
            "cell_type": "code",
            "execution_count": 27,
            "id": "56b67b66-3a9f-4399-b732-e54c3038636b",
            "metadata": {},
            "outputs": [],
            "source": [
                "all_data.groupby('Month').agg({'Sales': {lambda x: x.nlargest(2).sum() }})"
            ]
        },
        {
            "cell_type": "code",
            "execution_count": 28,
            "id": "201ef83d-b99e-446d-8659-314fc8c6ff45",
            "metadata": {},
            "outputs": [],
            "source": [
                "all_data.groupby('Month').sum().max()"
            ]
        },
        {
            "cell_type": "code",
            "execution_count": 25,
            "id": "eec0a5ba-e9a9-4977-8a81-24c0ae4cb0d2",
            "metadata": {},
            "outputs": [],
            "source": [
                "all_data[:].groupby('Month')['Sales'].sum().max()"
            ]
        },
        {
            "cell_type": "code",
            "execution_count": 29,
            "id": "5a91b1ce-28ee-4174-844a-f9762a8c5246",
            "metadata": {},
            "outputs": [],
            "source": [
                "all_data.groupby('Month').sum()"
            ]
        },
        {
            "cell_type": "code",
            "execution_count": 30,
            "id": "e318197a-b497-4143-89aa-73e2ee178f83",
            "metadata": {},
            "outputs": [],
            "source": [
                "temp_data=all_data.groupby('Month')['Sales'].sum()\n",
                "temp_data.head()\n",
                "temp_data.nlargest(1)"
            ]
        },
        {
            "cell_type": "code",
            "execution_count": 31,
            "id": "b4042b44-2ffb-4045-92b2-5c8ddf9f003f",
            "metadata": {},
            "outputs": [],
            "source": [
                " all_data.loc[all_data.groupby('Month')['Sales'].sum().idxmax()]"
            ]
        },
        {
            "cell_type": "code",
            "execution_count": 29,
            "id": "9c833ab8-6cef-4566-81c6-9272096ffc19",
            "metadata": {},
            "outputs": [],
            "source": [
                " all_data.loc[all_data.groupby('Month')['Sales'].sum().idxmax()]"
            ]
        },
        {
            "cell_type": "code",
            "execution_count": 33,
            "id": "e0c349be-7ab7-4f76-beae-dd5adea8d357",
            "metadata": {},
            "outputs": [],
            "source": [
                " all_data.loc[all_data.groupby('Month')['Sales'].sum().idxmax()]\n",
                "results =  all_data.groupby('Month').sum() "
            ]
        },
        {
            "cell_type": "code",
            "execution_count": 34,
            "id": "4fc30c46-c1e3-43ec-859c-e60c5c9df422",
            "metadata": {},
            "outputs": [],
            "source": [
                "all_data.groupby('Month').sum() \n"
            ]
        },
        {
            "cell_type": "code",
            "execution_count": 35,
            "id": "39ae87cb-8c22-411e-a8b4-b46101c7f1f6",
            "metadata": {},
            "outputs": [],
            "source": [
                "\n",
                "import matplotlib.pyplot as plt\n",
                "months= range(1,13)\n",
                "plt.bar(months,results['Sales'])\n",
                "plt.xticks(months)\n",
                "plt.ylabel('sales in usd ($)')\n",
                "plt.xlabel('Month Number')\n",
                "plt.show()"
            ]
        },
        {
            "cell_type": "code",
            "execution_count": 39,
            "id": "42d09ca3-d36f-4b51-a70f-c4339f25a953",
            "metadata": {},
            "outputs": [],
            "source": [
                "#### What city had the hightest number of sales"
            ]
        },
        {
            "cell_type": "code",
            "execution_count": 36,
            "id": "0755ff72-1f21-43ba-b9d2-977dc7dfe629",
            "metadata": {},
            "outputs": [],
            "source": [
                "all_data['City']=all_data['Purchase Address'].apply(lambda x:x.split(',')[1])"
            ]
        },
        {
            "cell_type": "code",
            "execution_count": 37,
            "id": "7f041faf-534e-4517-85e3-fa599cf300ff",
            "metadata": {},
            "outputs": [],
            "source": [
                "all_data.head()"
            ]
        },
        {
            "cell_type": "code",
            "execution_count": 38,
            "id": "f08d533d-308f-4ac4-84e3-9b0c7cd67d6d",
            "metadata": {},
            "outputs": [],
            "source": [
                "####Another way to write lambda functions\n",
                "def get_city(address):\n",
                "    return address.split(',')[1]"
            ]
        },
        {
            "cell_type": "code",
            "execution_count": 39,
            "id": "b31b39cb-9c5a-4f15-9012-e167e7d23496",
            "metadata": {},
            "outputs": [],
            "source": [
                "all_data['City']=all_data['Purchase Address'].apply(lambda x:get_city(x))"
            ]
        },
        {
            "cell_type": "code",
            "execution_count": 74,
            "id": "024cc0eb-b452-480d-8382-8acd82a40cab",
            "metadata": {},
            "outputs": [],
            "source": [
                "all_data.head()"
            ]
        },
        {
            "cell_type": "code",
            "execution_count": null,
            "id": "571986b1-5de8-4ffd-b846-113751c97d31",
            "metadata": {},
            "outputs": [],
            "source": [
                "#### as  we may duplicates cities to aggreate on we need to get the state fom address\n"
            ]
        },
        {
            "cell_type": "code",
            "execution_count": 40,
            "id": "697a912a-8c86-43a5-8712-ad17c518628c",
            "metadata": {},
            "outputs": [],
            "source": [
                "def get_state(address):\n",
                "    return address.split(',')[2].split(' ')[1]"
            ]
        },
        {
            "cell_type": "code",
            "execution_count": 42,
            "id": "925f8258-0d05-4a7d-8b14-1a92df780408",
            "metadata": {},
            "outputs": [],
            "source": [
                "all_data['City']=all_data['Purchase Address'].apply(lambda x:get_city(x) + ' ' +get_state(x))"
            ]
        },
        {
            "cell_type": "code",
            "execution_count": 87,
            "id": "3241bdc7-4131-41ab-b83c-50ed1b532ce3",
            "metadata": {},
            "outputs": [],
            "source": [
                "all_data.head()"
            ]
        },
        {
            "cell_type": "code",
            "execution_count": 43,
            "id": "a201b74d-0685-457b-8441-acd80d9d0f47",
            "metadata": {},
            "outputs": [],
            "source": [
                "results =  all_data.groupby('City').sum() "
            ]
        },
        {
            "cell_type": "code",
            "execution_count": 89,
            "id": "0197dd91-21ed-42a4-ab0c-0103626cbe11",
            "metadata": {},
            "outputs": [],
            "source": [
                "results"
            ]
        },
        {
            "cell_type": "code",
            "execution_count": 44,
            "id": "74bfd49e-3d74-4677-b123-aa6f824ba133",
            "metadata": {},
            "outputs": [],
            "source": [
                "import matplotlib.pyplot as plt\n",
                "cities= all_data['City'].unique()\n",
                "plt.bar(cities,results['Sales'])\n",
                "plt.xticks(cities,rotation='vertical',size =8)\n",
                "plt.ylabel('sales in usd ($)')\n",
                "plt.xlabel('Cities')\n",
                "plt.show()"
            ]
        },
        {
            "cell_type": "markdown",
            "id": "0354b2f0-dd1d-4221-89a1-d309a1c024b4",
            "metadata": {},
            "source": [
                "### when you plot the data seems like data is wrong as Sf has more sales than Austin. this is because when we\n",
                "### Unique the city order didn't change relative to sales , so we need to retain city order in lieu with sales"
            ]
        },
        {
            "cell_type": "code",
            "execution_count": 45,
            "id": "4b6266b6-3202-40f6-8908-ddfda046709a",
            "metadata": {},
            "outputs": [],
            "source": [
                "import matplotlib.pyplot as plt\n",
                "cities= [city for city,df in all_data.groupby('City')]\n",
                "plt.bar(cities,results['Sales'])\n",
                "plt.xticks(cities,rotation='vertical',size =8)\n",
                "plt.ylabel('sales in usd ($)')\n",
                "plt.xlabel('Cities')\n",
                "plt.show()"
            ]
        },
        {
            "cell_type": "markdown",
            "id": "22da91f4-1fab-4371-88d8-504e301fd939",
            "metadata": {},
            "source": [
                "## What time should we display advertisements to maximize likelyhood of customer buying product"
            ]
        },
        {
            "cell_type": "code",
            "execution_count": 46,
            "id": "413ebd40-b0bd-4431-912e-b3210d8cd134",
            "metadata": {},
            "outputs": [],
            "source": [
                "all_data.head()"
            ]
        },
        {
            "cell_type": "code",
            "execution_count": 47,
            "id": "667fd596-d097-4588-843f-5de94cca0808",
            "metadata": {},
            "outputs": [],
            "source": [
                "all_data['Order Date']=pd.to_datetime(all_data['Order Date'])"
            ]
        },
        {
            "cell_type": "code",
            "execution_count": 48,
            "id": "05072c8a-3e0e-4742-b0bb-f75b36529f44",
            "metadata": {},
            "outputs": [],
            "source": [
                "all_data.head()"
            ]
        },
        {
            "cell_type": "code",
            "execution_count": 52,
            "id": "444b2cf2-b5b7-48e7-9ec4-b1f87a632ed8",
            "metadata": {},
            "outputs": [],
            "source": [
                "all_data['Hour']=all_data['Order Date'].dt.hour\n",
                "all_data['Minute']=all_data['Order Date'].dt.minute"
            ]
        },
        {
            "cell_type": "code",
            "execution_count": 53,
            "id": "e05a4c29-85bd-450f-8ca9-8ef2c5f994b0",
            "metadata": {},
            "outputs": [],
            "source": [
                "all_data.head()"
            ]
        },
        {
            "cell_type": "code",
            "execution_count": 51,
            "id": "0a860a34-bea6-4320-9652-e14ffc4dfdd2",
            "metadata": {},
            "outputs": [],
            "source": [
                "all_data.groupby('Hour').sum()"
            ]
        },
        {
            "cell_type": "code",
            "execution_count": 58,
            "id": "b53afef4-ba13-455f-b8d0-de06b5bc6b70",
            "metadata": {},
            "outputs": [],
            "source": [
                "hours= [hours for hours,df in all_data.groupby('Hour')]\n",
                "hour_count = all_data.groupby('Hour').count()\n",
                "plt.plot(hours,hour_count)\n",
                "plt.xlabel('Hours')\n",
                "plt.ylabel('Hourly sale count')\n",
                "plt.xticks(hours)\n",
                "plt.grid()\n",
                "plt.show()"
            ]
        },
        {
            "cell_type": "code",
            "execution_count": 59,
            "id": "32bc2538-a78f-4dc7-8878-8959512e78da",
            "metadata": {},
            "outputs": [],
            "source": [
                "#So from the graph Recommendation is 11 am or 7 pm\n",
                "#you can Break it down furthur to cities ans play to together"
            ]
        },
        {
            "cell_type": "markdown",
            "id": "16ec1ede-93ea-44b1-ac82-2f37db91a65d",
            "metadata": {},
            "source": [
                "#### What Products most often sold together?"
            ]
        },
        {
            "cell_type": "code",
            "execution_count": 66,
            "id": "f792f07c-3595-4c91-85d5-33c6a2dd26cd",
            "metadata": {},
            "outputs": [],
            "source": [
                "# To about this if you check the data if the order id same for multiple products that means they sold together\n",
                "df= all_data[all_data['Order ID'].duplicated(keep=False)]"
            ]
        },
        {
            "cell_type": "code",
            "execution_count": 72,
            "id": "77342f56-13f6-43be-b9eb-4817f4520915",
            "metadata": {},
            "outputs": [],
            "source": [
                "df.count()"
            ]
        },
        {
            "cell_type": "code",
            "execution_count": 75,
            "id": "658a5c97-83d0-4f55-91e3-3b8956f660c1",
            "metadata": {},
            "outputs": [],
            "source": [
                "df['Grouped']= df.groupby('Order ID')['Product'].transform(lambda x: ','.join(x))"
            ]
        },
        {
            "cell_type": "code",
            "execution_count": 76,
            "id": "c5076817-f86b-45d6-ab31-2fc369340a64",
            "metadata": {},
            "outputs": [],
            "source": [
                "df.head()"
            ]
        },
        {
            "cell_type": "code",
            "execution_count": 78,
            "id": "8647266e-1397-426f-a5ae-d35676ed0f8e",
            "metadata": {},
            "outputs": [],
            "source": [
                "## Drop duplicate\n",
                "df= df[['Order ID','Grouped']].drop_duplicates()"
            ]
        },
        {
            "cell_type": "code",
            "execution_count": 79,
            "id": "d3dd62b0-d2e8-483d-b05d-a7c7421e4bce",
            "metadata": {},
            "outputs": [],
            "source": [
                "df.head()"
            ]
        },
        {
            "cell_type": "code",
            "execution_count": 81,
            "id": "4e1d2399-6306-4d92-b9e5-268af5f9a9e4",
            "metadata": {},
            "outputs": [],
            "source": [
                "#Now we need iterate through the pairs and get counts\n",
                "from itertools import combinations\n",
                "from collections import Counter"
            ]
        },
        {
            "cell_type": "code",
            "execution_count": 89,
            "id": "660c085e-f7f5-429a-b9d7-84f4e14724e6",
            "metadata": {},
            "outputs": [],
            "source": [
                "count = Counter()\n",
                "# Most common 2\n",
                "for row in df['Grouped']:\n",
                "    row_list = row.split(',')\n",
                "    count.update(Counter(combinations(row_list,2)))\n",
                "count.most_common(10)\n",
                "for key, value in count.most_common(10):\n",
                "    print(key,value)\n",
                "#print(count)       \n",
                "\n",
                "# Most common 3"
            ]
        },
        {
            "cell_type": "code",
            "execution_count": 88,
            "id": "a6348357-e053-4d01-bcc5-86acc632c892",
            "metadata": {},
            "outputs": [],
            "source": [
                "# Most common 3\n",
                "count = Counter()\n",
                "for row in df['Grouped']:\n",
                "    row_list = row.split(',')\n",
                "    count.update(Counter(combinations(row_list,3)))\n",
                "count.most_common(10)\n",
                "for key, value in count.most_common(10):\n",
                "    print(key,value)"
            ]
        },
        {
            "cell_type": "markdown",
            "id": "c8327a89-7486-40ae-aad3-31f3183b43eb",
            "metadata": {},
            "source": [
                "### What Product sold the most and why it sold the most?"
            ]
        },
        {
            "cell_type": "code",
            "execution_count": 90,
            "id": "ab87825c-e13b-42be-9781-bba7e2a04885",
            "metadata": {},
            "outputs": [],
            "source": [
                "# group by prodcuts and sum the quantity"
            ]
        },
        {
            "cell_type": "code",
            "execution_count": 91,
            "id": "6db5a4aa-0329-49eb-b7ad-50038c3c9a7d",
            "metadata": {},
            "outputs": [],
            "source": [
                "product_sold =all_data.groupby('Product')"
            ]
        },
        {
            "cell_type": "code",
            "execution_count": 92,
            "id": "23dde0d6-cf35-487c-9448-5e52163f7cfa",
            "metadata": {},
            "outputs": [],
            "source": [
                "product_sold.sum()"
            ]
        },
        {
            "cell_type": "code",
            "execution_count": 94,
            "id": "ce45362c-bcc1-41ce-aa6e-0c7a8d4adf99",
            "metadata": {},
            "outputs": [],
            "source": [
                "quantity_ordered = product_sold.sum()['Quantity Ordered']"
            ]
        },
        {
            "cell_type": "code",
            "execution_count": 101,
            "id": "dc075a32-7de6-4f3a-8ab6-f466493848c3",
            "metadata": {},
            "outputs": [],
            "source": [
                "product_sold =all_data.groupby('Product')\n",
                "quantity_ordered = product_sold.sum()['Quantity Ordered']\n",
                "products= [products for products,df in product_sold]\n",
                "plt.bar(products,quantity_ordered)\n",
                "plt.xticks(products,rotation='vertical',size =10)\n",
                "\n",
                "plt.show()"
            ]
        },
        {
            "cell_type": "code",
            "execution_count": 103,
            "id": "0607ee5a-e519-4842-af22-0ac319ba097e",
            "metadata": {},
            "outputs": [],
            "source": [
                "prices =all_data.groupby('Product').mean()['Price Each']\n",
                "prices"
            ]
        },
        {
            "cell_type": "code",
            "execution_count": 108,
            "id": "fce01f54-b6d6-4987-b547-bc70dee46c1b",
            "metadata": {},
            "outputs": [],
            "source": [
                "#now let's combine this data to same plot\n",
                "fig, ax1 = plt.subplots()\n",
                "\n",
                "ax2 = ax1.twinx()\n",
                "\n",
                "ax1.bar(products,quantity_ordered,color='g')\n",
                "ax2.plot(products,prices,'b-')\n",
                "\n",
                "ax1.set_xlabel('prodcuts')\n",
                "ax1.set_ylabel('Quantity ordered', color='g')\n",
                "ax2.set_ylabel('Price Each', color='b')\n",
                "ax1.set_xticklabels(products,rotation='vertical',size=8)\n",
                "plt.show()"
            ]
        },
        {
            "cell_type": "code",
            "execution_count": 109,
            "id": "d176cdc1-84cb-46a1-9119-d978e7b8d68c",
            "metadata": {},
            "outputs": [],
            "source": [
                "#Based on the above graph , we can correlate price and quantity ordered , in above lower price and more orders."
            ]
        },
        {
            "cell_type": "code",
            "execution_count": null,
            "id": "9979a3d1-376f-48a4-b6ad-cae47a21a04c",
            "metadata": {},
            "outputs": [],
            "source": []
        }
    ],
    "metadata": {
        "kernelspec": {
            "display_name": "Python 3 [3.10]",
            "language": "python",
            "name": "python3"
        },
        "language_info": {
            "codemirror_mode": {
                "name": "ipython",
                "version": 3
            },
            "file_extension": ".py",
            "mimetype": "text/x-python",
            "name": "python",
            "nbconvert_exporter": "python",
            "pygments_lexer": "ipython3",
            "version": "3.10.2"
        }
    },
    "nbformat": 4,
    "nbformat_minor": 5
}